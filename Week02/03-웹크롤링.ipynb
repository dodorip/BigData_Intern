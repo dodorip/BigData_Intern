{
 "cells": [
  {
   "cell_type": "code",
   "execution_count": 1,
   "id": "22be7a58",
   "metadata": {},
   "outputs": [],
   "source": [
    "from xml.etree import ElementTree\n",
    "import xml.etree.ElementTree"
   ]
  },
  {
   "cell_type": "code",
   "execution_count": 9,
   "id": "23458cbe",
   "metadata": {},
   "outputs": [],
   "source": [
    "# parse() 함수로 파일을 읽고 ElementTree 객체를 생성하여 tree에 저장\n",
    "tree = ElementTree.parse('rss.xml')\n",
    "#print(tree)"
   ]
  },
  {
   "cell_type": "code",
   "execution_count": 10,
   "id": "0a62f993",
   "metadata": {},
   "outputs": [],
   "source": [
    "# getroot()로 XML의 루트 element를 추출\n",
    "root = tree.getroot()\n",
    "#root"
   ]
  },
  {
   "cell_type": "code",
   "execution_count": 7,
   "id": "1990511c",
   "metadata": {},
   "outputs": [],
   "source": [
    "#DataFrame을 위한 모듈 pandas 임포트\n",
    "import pandas as pd"
   ]
  },
  {
   "cell_type": "code",
   "execution_count": 8,
   "id": "d12e13bf",
   "metadata": {},
   "outputs": [
    {
     "name": "stdout",
     "output_type": "stream",
     "text": [
      "                  일시 최저기온 최고기온     날씨\n",
      "0   2020-06-25 00:00   21   26  흐리고 비\n",
      "0   2020-06-25 12:00   21   26  흐리고 비\n",
      "0   2020-06-26 00:00   21   29  흐리고 비\n",
      "0   2020-06-26 12:00   21   29   구름많음\n",
      "0   2020-06-27 00:00   22   29   구름많음\n",
      "..               ...  ...  ...    ...\n",
      "0   2020-06-29 00:00   23   26  흐리고 비\n",
      "0   2020-06-29 12:00   23   26  흐리고 비\n",
      "0   2020-06-30 00:00   22   26  흐리고 비\n",
      "0   2020-07-01 00:00   22   26  흐리고 비\n",
      "0   2020-07-02 00:00   22   27     흐림\n",
      "\n",
      "[533 rows x 4 columns]\n"
     ]
    }
   ],
   "source": [
    "result_list = []\n",
    "for item in root.findall('channel/item/description/body/location/data'):\n",
    "    # find() 메서드로 element 탐색, text 속성으로 값을 추출\n",
    "    # 각각의 속성값들 탐색 및 추출하여 각각의 변수에 저장.\n",
    "    tm_ef = item.find('tmEf').text\n",
    "    tmn = item.find('tmn').text\n",
    "    tmx = item.find('tmx').text\n",
    "    wf = item.find('wf').text\n",
    "    df = pd.DataFrame({\n",
    "        '일시':[tm_ef],\n",
    "        '최저기온':[tmn],\n",
    "        '최고기온':[tmx],\n",
    "        '날씨':[wf],\n",
    "    })# 각각의 변수들을 하나의 데이터 프레임으로 정리\n",
    "    result_list.append(df) # 미리 선언해둔 result_list에 추가\n",
    "weather_info = pd.concat(result_list)\n",
    "print(weather_info)"
   ]
  },
  {
   "cell_type": "code",
   "execution_count": null,
   "id": "6b48c53b",
   "metadata": {},
   "outputs": [],
   "source": []
  }
 ],
 "metadata": {
  "kernelspec": {
   "display_name": "Python 3",
   "language": "python",
   "name": "python3"
  },
  "language_info": {
   "codemirror_mode": {
    "name": "ipython",
    "version": 3
   },
   "file_extension": ".py",
   "mimetype": "text/x-python",
   "name": "python",
   "nbconvert_exporter": "python",
   "pygments_lexer": "ipython3",
   "version": "3.8.8"
  }
 },
 "nbformat": 4,
 "nbformat_minor": 5
}
