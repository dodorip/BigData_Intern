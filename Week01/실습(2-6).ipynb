{
 "cells": [
  {
   "cell_type": "markdown",
   "id": "683eb615",
   "metadata": {},
   "source": [
    "# 12-1 파이썬 파일 입력"
   ]
  },
  {
   "cell_type": "code",
   "execution_count": 8,
   "id": "e99bb478",
   "metadata": {},
   "outputs": [],
   "source": [
    "#open() 사용시 꼭 close까지!"
   ]
  },
  {
   "cell_type": "code",
   "execution_count": 4,
   "id": "91ca7e4a",
   "metadata": {},
   "outputs": [],
   "source": [
    "fr = open('./12-1. hello.txt', 'r')"
   ]
  },
  {
   "cell_type": "code",
   "execution_count": 6,
   "id": "cbc77694",
   "metadata": {},
   "outputs": [
    {
     "name": "stdout",
     "output_type": "stream",
     "text": [
      "Hello World Python!!!\n",
      "\n",
      "Welcome to Python World!!!\n"
     ]
    }
   ],
   "source": [
    "for line in fr:\n",
    "    print(line)"
   ]
  },
  {
   "cell_type": "code",
   "execution_count": 7,
   "id": "3ca2a54e",
   "metadata": {},
   "outputs": [],
   "source": [
    "fr.close()"
   ]
  },
  {
   "cell_type": "code",
   "execution_count": 9,
   "id": "61bace40",
   "metadata": {},
   "outputs": [],
   "source": [
    "#with을 사용하면 똑같은 기능이지만 close없어도 됌"
   ]
  },
  {
   "cell_type": "code",
   "execution_count": 10,
   "id": "5cb48ecb",
   "metadata": {},
   "outputs": [
    {
     "name": "stdout",
     "output_type": "stream",
     "text": [
      "Hello World Python!!!\n",
      "\n",
      "Welcome to Python World!!!\n"
     ]
    }
   ],
   "source": [
    "with open('./12-1. hello.txt', 'r') as fr:\n",
    "    for line in fr:\n",
    "        print(line)"
   ]
  },
  {
   "cell_type": "markdown",
   "id": "e434d727",
   "metadata": {},
   "source": [
    "# 12-2 파일 출력"
   ]
  },
  {
   "cell_type": "code",
   "execution_count": 11,
   "id": "34727e64",
   "metadata": {},
   "outputs": [],
   "source": [
    "fw = open('./hello_write.txt', 'w')"
   ]
  },
  {
   "cell_type": "code",
   "execution_count": 12,
   "id": "c0c0a322",
   "metadata": {},
   "outputs": [
    {
     "data": {
      "text/plain": [
       "22"
      ]
     },
     "execution_count": 12,
     "metadata": {},
     "output_type": "execute_result"
    }
   ],
   "source": [
    "fw.write('Hello World Python!!!\\n')\n",
    "#22는 문자열의 갯수"
   ]
  },
  {
   "cell_type": "code",
   "execution_count": 13,
   "id": "142ae4f4",
   "metadata": {},
   "outputs": [
    {
     "data": {
      "text/plain": [
       "26"
      ]
     },
     "execution_count": 13,
     "metadata": {},
     "output_type": "execute_result"
    }
   ],
   "source": [
    "fw.write('Welcome to Python World!!!')"
   ]
  },
  {
   "cell_type": "code",
   "execution_count": 14,
   "id": "e18dcc69",
   "metadata": {},
   "outputs": [],
   "source": [
    "fw.close()\n",
    "#open을 사용했기떄문에 close를 꼭 써줘야함"
   ]
  },
  {
   "cell_type": "code",
   "execution_count": 15,
   "id": "1c8d3899",
   "metadata": {},
   "outputs": [],
   "source": [
    "#with을 사용한다면 close를 하지 않아도 됌."
   ]
  },
  {
   "cell_type": "code",
   "execution_count": 16,
   "id": "ef65bf9f",
   "metadata": {},
   "outputs": [],
   "source": [
    "with open('./hello_write.txt', 'w') as fw:\n",
    "    fw.write('Hello World Python!!!\\n')\n",
    "    fw.write('Welcome to Python World!!!\\n')"
   ]
  },
  {
   "cell_type": "code",
   "execution_count": 18,
   "id": "637c9e03",
   "metadata": {},
   "outputs": [],
   "source": [
    "with open('./hello_write.txt', 'a') as fw:\n",
    "    fw.write('New line append!!!')\n",
    "#'a' : append Mode"
   ]
  },
  {
   "cell_type": "markdown",
   "id": "0a4a334e",
   "metadata": {},
   "source": [
    "# 12-3 파일시스템"
   ]
  },
  {
   "cell_type": "code",
   "execution_count": 20,
   "id": "c89d7b26",
   "metadata": {},
   "outputs": [],
   "source": [
    "import os"
   ]
  },
  {
   "cell_type": "code",
   "execution_count": 22,
   "id": "e272d3fb",
   "metadata": {},
   "outputs": [
    {
     "data": {
      "text/plain": [
       "['실습(3).ipynb',\n",
       " '.DS_Store',\n",
       " '도연개인',\n",
       " '.localized',\n",
       " '실습(1).ipynb',\n",
       " '실습(5).ipynb',\n",
       " '실습(2).ipynb',\n",
       " '.ipynb_checkpoints',\n",
       " '실습(4).ipynb',\n",
       " '무제 폴더 2',\n",
       " '무제 폴더',\n",
       " 'RStudio.app',\n",
       " 'hello_write.txt',\n",
       " '실습(6).ipynb']"
      ]
     },
     "execution_count": 22,
     "metadata": {},
     "output_type": "execute_result"
    }
   ],
   "source": [
    "os.listdir('.')"
   ]
  },
  {
   "cell_type": "code",
   "execution_count": 23,
   "id": "7ce87fa5",
   "metadata": {},
   "outputs": [],
   "source": [
    "file_list = os.listdir('.')"
   ]
  },
  {
   "cell_type": "code",
   "execution_count": 24,
   "id": "d7ecca54",
   "metadata": {},
   "outputs": [],
   "source": [
    "file_ipynb = [ f for f in file_list if f.endswith('.ipynb')]"
   ]
  },
  {
   "cell_type": "code",
   "execution_count": 25,
   "id": "d146b6d5",
   "metadata": {},
   "outputs": [
    {
     "data": {
      "text/plain": [
       "['실습(3).ipynb',\n",
       " '실습(1).ipynb',\n",
       " '실습(5).ipynb',\n",
       " '실습(2).ipynb',\n",
       " '실습(4).ipynb',\n",
       " '실습(6).ipynb']"
      ]
     },
     "execution_count": 25,
     "metadata": {},
     "output_type": "execute_result"
    }
   ],
   "source": [
    "file_ipynb"
   ]
  },
  {
   "cell_type": "code",
   "execution_count": 26,
   "id": "cd12ee22",
   "metadata": {},
   "outputs": [
    {
     "data": {
      "text/plain": [
       "'/Users/doyeonpyun/Desktop'"
      ]
     },
     "execution_count": 26,
     "metadata": {},
     "output_type": "execute_result"
    }
   ],
   "source": [
    "os.getcwd()"
   ]
  },
  {
   "cell_type": "code",
   "execution_count": 27,
   "id": "05eded79",
   "metadata": {},
   "outputs": [],
   "source": [
    "os.mkdir('test')"
   ]
  },
  {
   "cell_type": "code",
   "execution_count": 28,
   "id": "faa4998f",
   "metadata": {},
   "outputs": [
    {
     "data": {
      "text/plain": [
       "'./test'"
      ]
     },
     "execution_count": 28,
     "metadata": {},
     "output_type": "execute_result"
    }
   ],
   "source": [
    "os.path.join('.', 'test')"
   ]
  },
  {
   "cell_type": "code",
   "execution_count": 29,
   "id": "20e6e065",
   "metadata": {},
   "outputs": [
    {
     "data": {
      "text/plain": [
       "'/Users/doyeonpyun/Desktop/hello_write.txt'"
      ]
     },
     "execution_count": 29,
     "metadata": {},
     "output_type": "execute_result"
    }
   ],
   "source": [
    "os.path.abspath('hello_write.txt')"
   ]
  },
  {
   "cell_type": "code",
   "execution_count": 30,
   "id": "c54acb97",
   "metadata": {},
   "outputs": [
    {
     "data": {
      "text/plain": [
       "True"
      ]
     },
     "execution_count": 30,
     "metadata": {},
     "output_type": "execute_result"
    }
   ],
   "source": [
    "os.path.isfile('hello_write.txt')"
   ]
  },
  {
   "cell_type": "code",
   "execution_count": 31,
   "id": "a3a387a4",
   "metadata": {},
   "outputs": [
    {
     "data": {
      "text/plain": [
       "False"
      ]
     },
     "execution_count": 31,
     "metadata": {},
     "output_type": "execute_result"
    }
   ],
   "source": [
    "os.path.isdir('hello_write.txt')"
   ]
  },
  {
   "cell_type": "code",
   "execution_count": 32,
   "id": "41c3543c",
   "metadata": {},
   "outputs": [
    {
     "data": {
      "text/plain": [
       "False"
      ]
     },
     "execution_count": 32,
     "metadata": {},
     "output_type": "execute_result"
    }
   ],
   "source": [
    "os.path.isfile('test')"
   ]
  },
  {
   "cell_type": "code",
   "execution_count": 33,
   "id": "a5bc542d",
   "metadata": {},
   "outputs": [
    {
     "data": {
      "text/plain": [
       "True"
      ]
     },
     "execution_count": 33,
     "metadata": {},
     "output_type": "execute_result"
    }
   ],
   "source": [
    "os.path.isdir('test')"
   ]
  },
  {
   "cell_type": "code",
   "execution_count": 34,
   "id": "22adfe64",
   "metadata": {},
   "outputs": [
    {
     "data": {
      "text/plain": [
       "('/Users/doyeonpyun/Desktop', 'hello_write.txt')"
      ]
     },
     "execution_count": 34,
     "metadata": {},
     "output_type": "execute_result"
    }
   ],
   "source": [
    "os.path.split(os.path.abspath('hello_write.txt'))"
   ]
  },
  {
   "cell_type": "code",
   "execution_count": 35,
   "id": "32509778",
   "metadata": {},
   "outputs": [
    {
     "data": {
      "text/plain": [
       "('hello_write', '.txt')"
      ]
     },
     "execution_count": 35,
     "metadata": {},
     "output_type": "execute_result"
    }
   ],
   "source": [
    "os.path.splitext('hello_write.txt')"
   ]
  }
 ],
 "metadata": {
  "kernelspec": {
   "display_name": "Python 3",
   "language": "python",
   "name": "python3"
  },
  "language_info": {
   "codemirror_mode": {
    "name": "ipython",
    "version": 3
   },
   "file_extension": ".py",
   "mimetype": "text/x-python",
   "name": "python",
   "nbconvert_exporter": "python",
   "pygments_lexer": "ipython3",
   "version": "3.8.8"
  }
 },
 "nbformat": 4,
 "nbformat_minor": 5
}
