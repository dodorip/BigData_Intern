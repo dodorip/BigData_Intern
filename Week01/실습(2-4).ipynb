{
 "cells": [
  {
   "cell_type": "markdown",
   "id": "5e3cd89f",
   "metadata": {},
   "source": [
    "# 10-1 파이썬 함수"
   ]
  },
  {
   "cell_type": "markdown",
   "id": "b3ba0cea",
   "metadata": {},
   "source": [
    "# 10-2 사용자 정의함수"
   ]
  },
  {
   "cell_type": "code",
   "execution_count": 1,
   "id": "85fff8c7",
   "metadata": {},
   "outputs": [],
   "source": [
    "#함수 정의\n",
    "def add1():\n",
    "    print(\"더하기 함수입니다.\")\n",
    "\n",
    "#add1() 함수는 단순 출력함수임."
   ]
  },
  {
   "cell_type": "code",
   "execution_count": 2,
   "id": "3f2a6a55",
   "metadata": {},
   "outputs": [
    {
     "name": "stdout",
     "output_type": "stream",
     "text": [
      "더하기 함수입니다.\n"
     ]
    }
   ],
   "source": [
    "#함수 호출\n",
    "add1()"
   ]
  },
  {
   "cell_type": "code",
   "execution_count": 5,
   "id": "196ef32e",
   "metadata": {},
   "outputs": [],
   "source": [
    "def add2(x, y):#(x,y) parameter\n",
    "    print(x + y)\n",
    "\n",
    "#실제 더하기 작용을 하는 함수 생성"
   ]
  },
  {
   "cell_type": "code",
   "execution_count": 6,
   "id": "8dba81c7",
   "metadata": {},
   "outputs": [
    {
     "name": "stdout",
     "output_type": "stream",
     "text": [
      "3\n"
     ]
    }
   ],
   "source": [
    "add2(1, 2) #1,2 인자(argument)"
   ]
  },
  {
   "cell_type": "code",
   "execution_count": 8,
   "id": "fe2ef58f",
   "metadata": {},
   "outputs": [],
   "source": [
    "def add3():\n",
    "    x, y = 2, 4\n",
    "    return x + y #반환값 존재\n",
    "#return 을 활용한 사용자정의 함수"
   ]
  },
  {
   "cell_type": "code",
   "execution_count": 9,
   "id": "e9b8c26f",
   "metadata": {},
   "outputs": [
    {
     "name": "stdout",
     "output_type": "stream",
     "text": [
      "6\n"
     ]
    }
   ],
   "source": [
    "re_val = add3()\n",
    "print(re_val)"
   ]
  },
  {
   "cell_type": "code",
   "execution_count": 10,
   "id": "be70c093",
   "metadata": {},
   "outputs": [],
   "source": [
    "def add4(x, y):\n",
    "    return x + y"
   ]
  },
  {
   "cell_type": "code",
   "execution_count": 11,
   "id": "ffd54af8",
   "metadata": {},
   "outputs": [
    {
     "name": "stdout",
     "output_type": "stream",
     "text": [
      "6\n"
     ]
    }
   ],
   "source": [
    "re_val = add3()\n",
    "print(re_val)"
   ]
  },
  {
   "cell_type": "code",
   "execution_count": 13,
   "id": "c6bc67f6",
   "metadata": {},
   "outputs": [],
   "source": [
    "#다중 반환값\n",
    "def square(x, y):\n",
    "    x = x ** 2\n",
    "    y = y ** 2\n",
    "    return x, y\n",
    "#제곱 함수"
   ]
  },
  {
   "cell_type": "code",
   "execution_count": 14,
   "id": "451bf507",
   "metadata": {},
   "outputs": [
    {
     "name": "stdout",
     "output_type": "stream",
     "text": [
      "4\n",
      "9\n"
     ]
    }
   ],
   "source": [
    "a, b = square(2, 3)\n",
    "print(a)\n",
    "print(b)"
   ]
  },
  {
   "cell_type": "markdown",
   "id": "06bd6b0c",
   "metadata": {},
   "source": [
    "# 10-3 함수의 매개변수\n",
    "    매개변수 앞에 *를 붙여서 매개변수 정의\n",
    "    일반 매개변수 할당 후 나머지 인자는 튜플로 할당"
   ]
  },
  {
   "cell_type": "code",
   "execution_count": 22,
   "id": "c495f289",
   "metadata": {},
   "outputs": [],
   "source": [
    "def square2(x=2, y=3):\n",
    "    x = x ** 2\n",
    "    y = y ** 2\n",
    "    return x, y"
   ]
  },
  {
   "cell_type": "code",
   "execution_count": 17,
   "id": "826b30b7",
   "metadata": {},
   "outputs": [
    {
     "data": {
      "text/plain": [
       "(4, 9)"
      ]
     },
     "execution_count": 17,
     "metadata": {},
     "output_type": "execute_result"
    }
   ],
   "source": [
    "square2()"
   ]
  },
  {
   "cell_type": "code",
   "execution_count": 18,
   "id": "84b0ed64",
   "metadata": {},
   "outputs": [
    {
     "data": {
      "text/plain": [
       "(4, 9)"
      ]
     },
     "execution_count": 18,
     "metadata": {},
     "output_type": "execute_result"
    }
   ],
   "source": [
    "square2(2)"
   ]
  },
  {
   "cell_type": "code",
   "execution_count": 19,
   "id": "272b57c1",
   "metadata": {},
   "outputs": [
    {
     "data": {
      "text/plain": [
       "(4, 9)"
      ]
     },
     "execution_count": 19,
     "metadata": {},
     "output_type": "execute_result"
    }
   ],
   "source": [
    "square2(2, 3)"
   ]
  },
  {
   "cell_type": "code",
   "execution_count": 21,
   "id": "ff251fe4",
   "metadata": {},
   "outputs": [
    {
     "data": {
      "text/plain": [
       "(16, 81)"
      ]
     },
     "execution_count": 21,
     "metadata": {},
     "output_type": "execute_result"
    }
   ],
   "source": [
    "square2(4,9)"
   ]
  },
  {
   "cell_type": "code",
   "execution_count": 23,
   "id": "27ece524",
   "metadata": {},
   "outputs": [],
   "source": [
    "def square2(x=2, y=3):\n",
    "    x = x ** 2\n",
    "    y = y ** 2\n",
    "    return x, y"
   ]
  },
  {
   "cell_type": "code",
   "execution_count": 24,
   "id": "63a2f28a",
   "metadata": {},
   "outputs": [
    {
     "data": {
      "text/plain": [
       "(16, 25)"
      ]
     },
     "execution_count": 24,
     "metadata": {},
     "output_type": "execute_result"
    }
   ],
   "source": [
    "square2(4, 5)"
   ]
  },
  {
   "cell_type": "code",
   "execution_count": 25,
   "id": "153dc44e",
   "metadata": {},
   "outputs": [
    {
     "data": {
      "text/plain": [
       "(16, 25)"
      ]
     },
     "execution_count": 25,
     "metadata": {},
     "output_type": "execute_result"
    }
   ],
   "source": [
    "square2(y=5, x=4)"
   ]
  },
  {
   "cell_type": "markdown",
   "id": "3c86ae70",
   "metadata": {},
   "source": [
    "# 가변 매개변수"
   ]
  },
  {
   "cell_type": "code",
   "execution_count": 26,
   "id": "3d7178a3",
   "metadata": {},
   "outputs": [],
   "source": [
    "def changeble(x, *y): #*y는 튜플형태\n",
    "    print(x, y)"
   ]
  },
  {
   "cell_type": "code",
   "execution_count": 27,
   "id": "c5036df4",
   "metadata": {},
   "outputs": [
    {
     "name": "stdout",
     "output_type": "stream",
     "text": [
      "1 ()\n"
     ]
    }
   ],
   "source": [
    "changeble(1)"
   ]
  },
  {
   "cell_type": "code",
   "execution_count": 28,
   "id": "c3264b12",
   "metadata": {},
   "outputs": [
    {
     "name": "stdout",
     "output_type": "stream",
     "text": [
      "1 (2,)\n"
     ]
    }
   ],
   "source": [
    "changeble(1, 2)"
   ]
  },
  {
   "cell_type": "code",
   "execution_count": 29,
   "id": "ec6e7fba",
   "metadata": {},
   "outputs": [
    {
     "name": "stdout",
     "output_type": "stream",
     "text": [
      "1 (2, 3)\n"
     ]
    }
   ],
   "source": [
    "changeble(1, 2, 3)"
   ]
  },
  {
   "cell_type": "code",
   "execution_count": 30,
   "id": "e8d9f052",
   "metadata": {},
   "outputs": [
    {
     "name": "stdout",
     "output_type": "stream",
     "text": [
      "1 (2, 3, 4, 5)\n"
     ]
    }
   ],
   "source": [
    "changeble(1, 2, 3, 4, 5)"
   ]
  },
  {
   "cell_type": "markdown",
   "id": "fa650ed5",
   "metadata": {},
   "source": []
  },
  {
   "cell_type": "code",
   "execution_count": null,
   "id": "97f04860",
   "metadata": {},
   "outputs": [],
   "source": []
  }
 ],
 "metadata": {
  "kernelspec": {
   "display_name": "Python 3",
   "language": "python",
   "name": "python3"
  },
  "language_info": {
   "codemirror_mode": {
    "name": "ipython",
    "version": 3
   },
   "file_extension": ".py",
   "mimetype": "text/x-python",
   "name": "python",
   "nbconvert_exporter": "python",
   "pygments_lexer": "ipython3",
   "version": "3.8.8"
  }
 },
 "nbformat": 4,
 "nbformat_minor": 5
}
